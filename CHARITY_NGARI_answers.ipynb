{
 "cells": [
  {
   "cell_type": "markdown",
   "metadata": {},
   "source": [
    "# Data Bootcamp Selection Challenge"
   ]
  },
  {
   "cell_type": "code",
   "execution_count": 1,
   "metadata": {},
   "outputs": [],
   "source": [
    "import pandas as pd\n",
    "import numpy as np\n",
    "url = \"https://storage.googleapis.com/deb-evaluation-materials/vehicles.csv\"\n",
    "df = pd.read_csv(url)"
   ]
  },
  {
   "cell_type": "code",
   "execution_count": 2,
   "metadata": {},
   "outputs": [
    {
     "data": {
      "text/html": [
       "<div>\n",
       "<style scoped>\n",
       "    .dataframe tbody tr th:only-of-type {\n",
       "        vertical-align: middle;\n",
       "    }\n",
       "\n",
       "    .dataframe tbody tr th {\n",
       "        vertical-align: top;\n",
       "    }\n",
       "\n",
       "    .dataframe thead th {\n",
       "        text-align: right;\n",
       "    }\n",
       "</style>\n",
       "<table border=\"1\" class=\"dataframe\">\n",
       "  <thead>\n",
       "    <tr style=\"text-align: right;\">\n",
       "      <th></th>\n",
       "      <th>Make</th>\n",
       "      <th>Model</th>\n",
       "      <th>Year</th>\n",
       "      <th>Engine Displacement</th>\n",
       "      <th>Cylinders</th>\n",
       "      <th>Transmission</th>\n",
       "      <th>Drivetrain</th>\n",
       "      <th>Vehicle Class</th>\n",
       "      <th>Fuel Type</th>\n",
       "      <th>Fuel Barrels/Year</th>\n",
       "      <th>City MPG</th>\n",
       "      <th>Highway MPG</th>\n",
       "      <th>Combined MPG</th>\n",
       "      <th>CO2 Emission Grams/Mile</th>\n",
       "      <th>Fuel Cost/Year</th>\n",
       "    </tr>\n",
       "  </thead>\n",
       "  <tbody>\n",
       "    <tr>\n",
       "      <th>0</th>\n",
       "      <td>AM General</td>\n",
       "      <td>DJ Po Vehicle 2WD</td>\n",
       "      <td>1984</td>\n",
       "      <td>2.5</td>\n",
       "      <td>4.0</td>\n",
       "      <td>Automatic 3-spd</td>\n",
       "      <td>2-Wheel Drive</td>\n",
       "      <td>Special Purpose Vehicle 2WD</td>\n",
       "      <td>Regular</td>\n",
       "      <td>19.388824</td>\n",
       "      <td>18</td>\n",
       "      <td>17</td>\n",
       "      <td>17</td>\n",
       "      <td>522.764706</td>\n",
       "      <td>1950</td>\n",
       "    </tr>\n",
       "    <tr>\n",
       "      <th>1</th>\n",
       "      <td>AM General</td>\n",
       "      <td>FJ8c Post Office</td>\n",
       "      <td>1984</td>\n",
       "      <td>4.2</td>\n",
       "      <td>6.0</td>\n",
       "      <td>Automatic 3-spd</td>\n",
       "      <td>2-Wheel Drive</td>\n",
       "      <td>Special Purpose Vehicle 2WD</td>\n",
       "      <td>Regular</td>\n",
       "      <td>25.354615</td>\n",
       "      <td>13</td>\n",
       "      <td>13</td>\n",
       "      <td>13</td>\n",
       "      <td>683.615385</td>\n",
       "      <td>2550</td>\n",
       "    </tr>\n",
       "    <tr>\n",
       "      <th>2</th>\n",
       "      <td>AM General</td>\n",
       "      <td>Post Office DJ5 2WD</td>\n",
       "      <td>1985</td>\n",
       "      <td>2.5</td>\n",
       "      <td>4.0</td>\n",
       "      <td>Automatic 3-spd</td>\n",
       "      <td>Rear-Wheel Drive</td>\n",
       "      <td>Special Purpose Vehicle 2WD</td>\n",
       "      <td>Regular</td>\n",
       "      <td>20.600625</td>\n",
       "      <td>16</td>\n",
       "      <td>17</td>\n",
       "      <td>16</td>\n",
       "      <td>555.437500</td>\n",
       "      <td>2100</td>\n",
       "    </tr>\n",
       "    <tr>\n",
       "      <th>3</th>\n",
       "      <td>AM General</td>\n",
       "      <td>Post Office DJ8 2WD</td>\n",
       "      <td>1985</td>\n",
       "      <td>4.2</td>\n",
       "      <td>6.0</td>\n",
       "      <td>Automatic 3-spd</td>\n",
       "      <td>Rear-Wheel Drive</td>\n",
       "      <td>Special Purpose Vehicle 2WD</td>\n",
       "      <td>Regular</td>\n",
       "      <td>25.354615</td>\n",
       "      <td>13</td>\n",
       "      <td>13</td>\n",
       "      <td>13</td>\n",
       "      <td>683.615385</td>\n",
       "      <td>2550</td>\n",
       "    </tr>\n",
       "    <tr>\n",
       "      <th>4</th>\n",
       "      <td>ASC Incorporated</td>\n",
       "      <td>GNX</td>\n",
       "      <td>1987</td>\n",
       "      <td>3.8</td>\n",
       "      <td>6.0</td>\n",
       "      <td>Automatic 4-spd</td>\n",
       "      <td>Rear-Wheel Drive</td>\n",
       "      <td>Midsize Cars</td>\n",
       "      <td>Premium</td>\n",
       "      <td>20.600625</td>\n",
       "      <td>14</td>\n",
       "      <td>21</td>\n",
       "      <td>16</td>\n",
       "      <td>555.437500</td>\n",
       "      <td>2550</td>\n",
       "    </tr>\n",
       "  </tbody>\n",
       "</table>\n",
       "</div>"
      ],
      "text/plain": [
       "               Make                Model  Year  Engine Displacement  \\\n",
       "0        AM General    DJ Po Vehicle 2WD  1984                  2.5   \n",
       "1        AM General     FJ8c Post Office  1984                  4.2   \n",
       "2        AM General  Post Office DJ5 2WD  1985                  2.5   \n",
       "3        AM General  Post Office DJ8 2WD  1985                  4.2   \n",
       "4  ASC Incorporated                  GNX  1987                  3.8   \n",
       "\n",
       "   Cylinders     Transmission        Drivetrain                Vehicle Class  \\\n",
       "0        4.0  Automatic 3-spd     2-Wheel Drive  Special Purpose Vehicle 2WD   \n",
       "1        6.0  Automatic 3-spd     2-Wheel Drive  Special Purpose Vehicle 2WD   \n",
       "2        4.0  Automatic 3-spd  Rear-Wheel Drive  Special Purpose Vehicle 2WD   \n",
       "3        6.0  Automatic 3-spd  Rear-Wheel Drive  Special Purpose Vehicle 2WD   \n",
       "4        6.0  Automatic 4-spd  Rear-Wheel Drive                 Midsize Cars   \n",
       "\n",
       "  Fuel Type  Fuel Barrels/Year  City MPG  Highway MPG  Combined MPG  \\\n",
       "0   Regular          19.388824        18           17            17   \n",
       "1   Regular          25.354615        13           13            13   \n",
       "2   Regular          20.600625        16           17            16   \n",
       "3   Regular          25.354615        13           13            13   \n",
       "4   Premium          20.600625        14           21            16   \n",
       "\n",
       "   CO2 Emission Grams/Mile  Fuel Cost/Year  \n",
       "0               522.764706            1950  \n",
       "1               683.615385            2550  \n",
       "2               555.437500            2100  \n",
       "3               683.615385            2550  \n",
       "4               555.437500            2550  "
      ]
     },
     "execution_count": 2,
     "metadata": {},
     "output_type": "execute_result"
    }
   ],
   "source": [
    "df.head()"
   ]
  },
  {
   "cell_type": "markdown",
   "metadata": {},
   "source": [
    "## Qn. 1\n",
    "What is the average CO2 emmission per gram/mile of all Volkswagen cars?\n",
    "Format: A floating number"
   ]
  },
  {
   "cell_type": "code",
   "execution_count": 3,
   "metadata": {},
   "outputs": [
    {
     "data": {
      "text/plain": [
       "392.742"
      ]
     },
     "execution_count": 3,
     "metadata": {},
     "output_type": "execute_result"
    }
   ],
   "source": [
    "import pandas as pd\n",
    "\n",
    "def calculate_co2_emission_mean(df):\n",
    "    \"\"\"\n",
    "    Calculate the mean CO2 emission for Volkswagen vehicles in the given DataFrame.\n",
    "\n",
    "    Parameters:\n",
    "    df (pandas.DataFrame): The input DataFrame containing vehicle data.\n",
    "\n",
    "    Returns:\n",
    "    float: The mean CO2 emission rounded to three decimal places.\n",
    "    \"\"\"\n",
    "    # Filter out Volkswagen data\n",
    "    volkswagen_data = df[df[\"Make\"] == \"Volkswagen\"]\n",
    "   \n",
    "    # Calculate the mean CO2 emission\n",
    "    mean_co2_emission = volkswagen_data['CO2 Emission Grams/Mile'].mean()\n",
    "    \n",
    "    return round(mean_co2_emission, 3)\n",
    "\n",
    "# Assuming you have a DataFrame named 'df'\n",
    "calculate_co2_emission_mean(df)"
   ]
  },
  {
   "cell_type": "code",
   "execution_count": 4,
   "metadata": {},
   "outputs": [
    {
     "data": {
      "text/plain": [
       "numpy.float64"
      ]
     },
     "execution_count": 4,
     "metadata": {},
     "output_type": "execute_result"
    }
   ],
   "source": [
    "type(calculate_co2_emission_mean(df))"
   ]
  },
  {
   "cell_type": "markdown",
   "metadata": {},
   "source": [
    "## Q2.\n",
    "Calculate the top 5 brands(Make) with the most unique models, order your answer in descending order with respect to the number of unique models.\n",
    "NOTE: Consider only the name of the models and their brand, that is use only the Make and Model columns\n",
    "Format: A 5X2 list with each row being the name of the brand followed by the unique number of models, in descending order.\n",
    "Hint: You can use the pandas df.values.tolist() function to format your answer.\n",
    "Example answer:\n",
    "[[\"Volkswagen\", 1000], [\"Toyota\", 900], [\"Honda\", 800], [\"Subaru\", 700], [\"Ford\", 600]]"
   ]
  },
  {
   "cell_type": "code",
   "execution_count": 5,
   "metadata": {},
   "outputs": [
    {
     "name": "stdout",
     "output_type": "stream",
     "text": [
      "[['Mercedes-Benz', 333], ['BMW', 284], ['Chevrolet', 253], ['Ford', 185], ['GMC', 163]]\n"
     ]
    }
   ],
   "source": [
    "import pandas as pd\n",
    "\n",
    "def top_five_unique_brands(df):\n",
    "    \"\"\"\n",
    "    Get the top five brands with the highest number of unique models.\n",
    "\n",
    "    Parameters:\n",
    "    df (pandas.DataFrame): The input DataFrame containing vehicle data.\n",
    "\n",
    "    Returns:\n",
    "    list: A list of lists containing the top five brands and their unique model counts.\n",
    "    \"\"\"\n",
    "    # Group by 'Make' and count unique 'Models'\n",
    "    brand_model_counts = df.groupby('Make')['Model'].nunique()\n",
    "    \n",
    "    # Get the top five brands\n",
    "    top_brands = brand_model_counts.sort_values(ascending=False).head(5)\n",
    "    \n",
    "    # Convert the result to a list of lists\n",
    "    top_five_unique = top_brands.reset_index().values.tolist()\n",
    "    \n",
    "    return top_five_unique\n",
    "\n",
    "result = top_five_unique_brands(df)\n",
    "print(result)"
   ]
  },
  {
   "cell_type": "markdown",
   "metadata": {},
   "source": [
    "## Q3. \n",
    "What are all the different types of fuels in the dataset sorted alphabetically?\n",
    "Format: A list of strings sorted alphabetically.\n",
    "Example Answer:\n",
    "['Regular', 'Premium']"
   ]
  },
  {
   "cell_type": "code",
   "execution_count": 6,
   "metadata": {},
   "outputs": [
    {
     "name": "stdout",
     "output_type": "stream",
     "text": [
      "['CNG', 'Diesel', 'Gasoline or E85', 'Gasoline or natural gas', 'Gasoline or propane', 'Midgrade', 'Premium', 'Premium Gas or Electricity', 'Premium and Electricity', 'Premium or E85', 'Regular', 'Regular Gas and Electricity', 'Regular Gas or Electricity']\n"
     ]
    }
   ],
   "source": [
    "def get_sorted_fuel_types(data_frame, column_name='Fuel Type'):\n",
    "    \"\"\"\n",
    "    Get a sorted list of different fuel types from the specified column in the DataFrame.\n",
    "\n",
    "    Parameters:\n",
    "    data_frame (pandas.DataFrame): The input DataFrame containing the data.\n",
    "    column_name (str): The column name to extract fuel types from. Default is 'Fuel Type'.\n",
    "\n",
    "    Returns:\n",
    "    list: A sorted list of different fuel types.\n",
    "    \"\"\"\n",
    "    fuel_types = sorted(data_frame[column_name].unique())\n",
    "    return fuel_types\n",
    "\n",
    "print(get_sorted_fuel_types(df))"
   ]
  },
  {
   "cell_type": "markdown",
   "metadata": {},
   "source": [
    "# Qn. 4\n",
    "Show the 9 Toyota cars with the most extreme Fuel Barrels/Year in abosolute terms within all Toyota cars. Show the car Model, Year and their Fuel Barrels/Year in standard deviation units(Z-score) sorted in descending order by their Fuel Barrels/Year in absolute terms first and then by year in descending order BUT without modifying the negative values"
   ]
  },
  {
   "cell_type": "code",
   "execution_count": 7,
   "metadata": {},
   "outputs": [
    {
     "name": "stderr",
     "output_type": "stream",
     "text": [
      "<ipython-input-7-73f9c5283449>:21: SettingWithCopyWarning: \n",
      "A value is trying to be set on a copy of a slice from a DataFrame.\n",
      "Try using .loc[row_indexer,col_indexer] = value instead\n",
      "\n",
      "See the caveats in the documentation: https://pandas.pydata.org/pandas-docs/stable/user_guide/indexing.html#returning-a-view-versus-a-copy\n",
      "  filtered_toyota_cars['Fuel Barrels/Year Z-score'] = fuel_barrels_z_scores\n"
     ]
    },
    {
     "data": {
      "text/plain": [
       "[['Cab/Chassis 2WD', 1993, 4.112255865424778],\n",
       " ['Cab/Chassis 2WD', 1992, 4.112255865424778],\n",
       " ['Cab/Chassis 2WD', 1991, 4.112255865424778],\n",
       " ['Cab/Chassis 2WD', 1990, 4.112255865424778],\n",
       " ['Cab/Chassis 2WD', 1989, 4.112255865424778],\n",
       " ['Cab/Chassis 2WD', 1993, 3.3791118637260777],\n",
       " ['Cab/Chassis 2WD', 1992, 3.3791118637260777],\n",
       " ['Land Cruiser Wagon 4WD', 1992, 3.3791118637260777],\n",
       " ['Cab/Chassis 2WD', 1991, 3.3791118637260777]]"
      ]
     },
     "execution_count": 7,
     "metadata": {},
     "output_type": "execute_result"
    }
   ],
   "source": [
    "import pandas as pd\n",
    "\n",
    "def get_top_toyota_cars(df, num_cars=9):\n",
    "    \"\"\"\n",
    "    Get information about the top Toyota cars based on Fuel Barrels/Year Z-scores.\n",
    "\n",
    "    Parameters:\n",
    "    df (pandas.DataFrame): The input DataFrame containing vehicle data.\n",
    "    num_cars (int): Number of top cars to retrieve. Default is 9.\n",
    "\n",
    "    Returns:\n",
    "    list: A list of lists containing information about the top Toyota cars.\n",
    "    \"\"\"\n",
    "    # Filter Toyota cars\n",
    "    filtered_toyota_cars = df[df['Make'] == 'Toyota']\n",
    "\n",
    "    # Calculate Z-scores for Fuel Barrels/Year\n",
    "    fuel_barrels_z_scores = (filtered_toyota_cars['Fuel Barrels/Year'] - filtered_toyota_cars['Fuel Barrels/Year'].mean()) / filtered_toyota_cars['Fuel Barrels/Year'].std()\n",
    "\n",
    "    # Add Z-scores as a new column\n",
    "    filtered_toyota_cars['Fuel Barrels/Year Z-score'] = fuel_barrels_z_scores\n",
    "\n",
    "    # Sort the DataFrame first by absolute Z-scores and then by Year\n",
    "    sorted_toyota_df = filtered_toyota_cars.sort_values(by=['Fuel Barrels/Year Z-score', 'Year'], ascending=[False, False])\n",
    "\n",
    "    # Select the top cars and relevant columns\n",
    "    top_cars_info = sorted_toyota_df.head(num_cars)[['Model', 'Year', 'Fuel Barrels/Year Z-score']].values.tolist()\n",
    "\n",
    "    return top_cars_info\n",
    "\n",
    "get_top_toyota_cars(df)"
   ]
  },
  {
   "cell_type": "markdown",
   "metadata": {},
   "source": [
    "# Qn. 5\n",
    " Calculate the changes in Combined MPG with their previous model of all Golf cars with Manual 5-spd transmission and Regular Fuel Type. Show the Year, the Combined MPG and the calculated difference of MPG in a list sorted by Year in ascending order.\n"
   ]
  },
  {
   "cell_type": "code",
   "execution_count": 8,
   "metadata": {},
   "outputs": [
    {
     "name": "stderr",
     "output_type": "stream",
     "text": [
      "<ipython-input-8-105bca3c0bfa>:21: SettingWithCopyWarning: \n",
      "A value is trying to be set on a copy of a slice from a DataFrame.\n",
      "Try using .loc[row_indexer,col_indexer] = value instead\n",
      "\n",
      "See the caveats in the documentation: https://pandas.pydata.org/pandas-docs/stable/user_guide/indexing.html#returning-a-view-versus-a-copy\n",
      "  filtered_vw_golf['MPG Change'] = filtered_vw_golf['Combined MPG'].diff()\n",
      "C:\\Users\\USER\\miniconda3\\envs\\datascience\\lib\\site-packages\\pandas\\core\\indexing.py:966: SettingWithCopyWarning: \n",
      "A value is trying to be set on a copy of a slice from a DataFrame.\n",
      "Try using .loc[row_indexer,col_indexer] = value instead\n",
      "\n",
      "See the caveats in the documentation: https://pandas.pydata.org/pandas-docs/stable/user_guide/indexing.html#returning-a-view-versus-a-copy\n",
      "  self.obj[item] = s\n"
     ]
    },
    {
     "data": {
      "text/plain": [
       "[[1986.0, 26.0, 0.0],\n",
       " [1987.0, 26.0, 0.0],\n",
       " [1988.0, 25.0, -1.0],\n",
       " [1989.0, 25.0, 0.0],\n",
       " [1999.0, 24.0, -1.0],\n",
       " [2000.0, 24.0, 0.0],\n",
       " [2001.0, 24.0, 0.0],\n",
       " [2002.0, 24.0, 0.0],\n",
       " [2003.0, 24.0, 0.0],\n",
       " [2004.0, 24.0, 0.0],\n",
       " [2005.0, 24.0, 0.0],\n",
       " [2006.0, 24.0, 0.0],\n",
       " [2010.0, 25.0, 1.0],\n",
       " [2011.0, 26.0, 1.0],\n",
       " [2012.0, 26.0, 0.0],\n",
       " [2013.0, 26.0, 0.0],\n",
       " [2015.0, 30.0, 4.0],\n",
       " [2016.0, 30.0, 0.0],\n",
       " [2017.0, 29.0, -1.0]]"
      ]
     },
     "execution_count": 8,
     "metadata": {},
     "output_type": "execute_result"
    }
   ],
   "source": [
    "import pandas as pd\n",
    "def get_mpg_changes_for_vw_golf_manual(df):\n",
    "    \"\"\"\n",
    "    Get changes in Combined MPG for Volkswagen Golf cars with Manual 5-spd transmission and Regular Fuel Type.\n",
    "\n",
    "    Parameters:\n",
    "    df (pandas.DataFrame): The input DataFrame containing vehicle data.\n",
    "\n",
    "    Returns:\n",
    "    list: A list of lists containing changes in MPG for the specified Volkswagen Golf cars.\n",
    "    \"\"\"\n",
    "    # Filter Volkswagen Golf cars with Manual 5-spd transmission and Regular Fuel Type\n",
    "    filtered_vw_golf = df[\n",
    "        (df['Make'] == 'Volkswagen') &\n",
    "        (df['Model'] == 'Golf') &\n",
    "        (df['Transmission'] == 'Manual 5-spd') &\n",
    "        (df['Fuel Type'] == 'Regular')\n",
    "    ]\n",
    "\n",
    "    # Calculate the changes in Combined MPG with the previous model\n",
    "    filtered_vw_golf['MPG Change'] = filtered_vw_golf['Combined MPG'].diff()\n",
    "\n",
    "    # Fill the first row with 0, as there is no previous model\n",
    "    filtered_vw_golf.loc[filtered_vw_golf.index[0], 'MPG Change'] = 0\n",
    "\n",
    "    # Select the required columns and sort by Year\n",
    "    mpg_changes = filtered_vw_golf[['Year', 'Combined MPG', 'MPG Change']].sort_values(by='Year').values.tolist()\n",
    "\n",
    "    return mpg_changes\n",
    "\n",
    "get_mpg_changes_for_vw_golf_manual(df)"
   ]
  },
  {
   "cell_type": "markdown",
   "metadata": {},
   "source": [
    "# Q. 6\n",
    "What are the top 5 lowest CO2 Emission Grams/Mile emmisions of cars for each of the following brands: Toyota, Ford, Volkswagen, Nissan, Honda\n",
    "Format: A 5X6 list with the first element of each row being the Make of the cars and the following five values being floats sorted in ascending order. The Makes should appear in order listed in the question starting with Toyota and ending with Honda"
   ]
  },
  {
   "cell_type": "code",
   "execution_count": 9,
   "metadata": {},
   "outputs": [
    {
     "data": {
      "text/plain": [
       "[['Toyota', 133.0, 133.0, 133.0, 133.0, 158.0],\n",
       " ['Ford', 112.0, 129.0, 129.0, 129.0, 129.0],\n",
       " ['Volkswagen', 200.0, 200.0, 200.0, 200.0, 261.025641025641],\n",
       " ['Nissan', 249.0, 254.0, 254.5, 254.5, 254.5],\n",
       " ['Honda',\n",
       "  130.0,\n",
       "  167.67924528301887,\n",
       "  167.67924528301887,\n",
       "  167.67924528301887,\n",
       "  167.67924528301887]]"
      ]
     },
     "execution_count": 9,
     "metadata": {},
     "output_type": "execute_result"
    }
   ],
   "source": [
    "def get_top_emission_values_for_brands(df, selected_brands):\n",
    "    \"\"\"\n",
    "    Get the top 5 CO2 emission values for each selected car brand.\n",
    "\n",
    "    Parameters:\n",
    "    df (pandas.DataFrame): The input DataFrame containing vehicle data.\n",
    "    selected_brands (list): List of selected car brands to analyze.\n",
    "\n",
    "    Returns:\n",
    "    list: A list of lists containing the top 5 CO2 emission values for each selected brand.\n",
    "    \"\"\"\n",
    "    top_emission_values = []\n",
    "\n",
    "    for brand in selected_brands:\n",
    "        brand_cars = df[df['Make'] == brand].sort_values(by='CO2 Emission Grams/Mile').head(5)\n",
    "        brand_emission_values = [brand] + brand_cars['CO2 Emission Grams/Mile'].tolist()\n",
    "        top_emission_values.append(brand_emission_values)\n",
    "\n",
    "    return top_emission_values\n",
    "\n",
    "selected_brands = ['Toyota', 'Ford', 'Volkswagen', 'Nissan', 'Honda']\n",
    "\n",
    "get_top_emission_values_for_brands(df,selected_brands)\n"
   ]
  },
  {
   "cell_type": "markdown",
   "metadata": {},
   "source": [
    "# Q.7\n",
    "Form 7 groups of 5 years to calculated the median Combined MPG of each group. The first group is from 1984 to 1988, the second from 1989 to 1993 and so on. The last group will have years not appearing in the dataset.\n",
    "Note: The groups ranges are inclusive on both sides, the first group starts with 1984 and cars from 1984 are included in it.\n",
    "Format : A 7X2 list with the first element of each row being a tuple of two integers being the lower and uppper range of the year groups and the esecond element being the median Combined MPG of that group, a float number."
   ]
  },
  {
   "cell_type": "code",
   "execution_count": 10,
   "metadata": {},
   "outputs": [
    {
     "name": "stdout",
     "output_type": "stream",
     "text": [
      "[[(1984, 1988), 19.0], [(1989, 1993), 18.0], [(1994, 1998), 19.0], [(1999, 2003), 19.0], [(2004, 2008), 19.0], [(2009, 2013), 21.0], [(2014, 2018), 22.0]]\n"
     ]
    }
   ],
   "source": [
    "def calculate_median_mpg_by_year(df, year_ranges):\n",
    "    \"\"\"\n",
    "    Calculate the median Combined MPG for each year group in the specified year ranges.\n",
    "    \n",
    "    Args:\n",
    "        df (pd.DataFrame): The DataFrame containing the car data.\n",
    "        year_ranges (list of tuple): List of tuples representing the year ranges.\n",
    "\n",
    "    Returns:\n",
    "        list: A list of tuples containing the year range and its corresponding median MPG.\n",
    "    \"\"\"\n",
    "    median_mpg_by_year = []\n",
    "\n",
    "    for lower, upper in year_ranges:\n",
    "        year_group_cars = df[(df['Year'] >= lower) & (df['Year'] <= upper)]\n",
    "        median_mpg = year_group_cars['Combined MPG'].median()\n",
    "        median_mpg_by_year.append([(lower, upper), median_mpg])\n",
    "\n",
    "    return median_mpg_by_year\n",
    "\n",
    "# Assuming you have already read your dataset into a DataFrame named 'df'\n",
    "year_ranges = [(1984, 1988), (1989, 1993), (1994, 1998), (1999, 2003),\n",
    "               (2004, 2008), (2009, 2013), (2014, 2018)]\n",
    "\n",
    "result = calculate_median_mpg_by_year(df, year_ranges)\n",
    "print(result)\n"
   ]
  },
  {
   "cell_type": "markdown",
   "metadata": {},
   "source": [
    "# Answers"
   ]
  },
  {
   "cell_type": "code",
   "execution_count": 11,
   "metadata": {},
   "outputs": [],
   "source": [
    "#Use this dictionary to store your answers in the correct format in the cells below , do not modify the keys\n",
    "answer_dict =  {\"Q1\" :392.742,\n",
    "            \"Q2\" :[['Mercedes-Benz', 333], ['BMW', 284], ['Chevrolet', 253], ['Ford', 185], ['GMC', 163]],\n",
    "            \"Q3\":['CNG', 'Diesel', 'Gasoline or E85', 'Gasoline or natural gas', 'Gasoline or propane', 'Midgrade', 'Premium', 'Premium Gas or Electricity', 'Premium and Electricity', 'Premium or E85', 'Regular', 'Regular Gas and Electricity', 'Regular Gas or Electricity'],\n",
    "            \"Q4\":[['Cab/Chassis 2WD', 1993, 4.112255865424778],\n",
    "            ['Cab/Chassis 2WD', 1992, 4.112255865424778],\n",
    "            ['Cab/Chassis 2WD', 1991, 4.112255865424778],\n",
    "            ['Cab/Chassis 2WD', 1990, 4.112255865424778],\n",
    "            ['Cab/Chassis 2WD', 1989, 4.112255865424778],\n",
    "            ['Cab/Chassis 2WD', 1993, 3.3791118637260777],\n",
    "            ['Cab/Chassis 2WD', 1992, 3.3791118637260777],\n",
    "            ['Land Cruiser Wagon 4WD', 1992, 3.3791118637260777],\n",
    "            ['Cab/Chassis 2WD', 1991, 3.3791118637260777]],\n",
    "            \"Q5\":[[1986.0, 26.0, 0.0],\n",
    "            [1987.0, 26.0, 0.0],\n",
    "            [1988.0, 25.0, -1.0],\n",
    "            [1989.0, 25.0, 0.0],\n",
    "            [1999.0, 24.0, -1.0],\n",
    "            [2000.0, 24.0, 0.0],\n",
    "            [2001.0, 24.0, 0.0],\n",
    "            [2002.0, 24.0, 0.0],\n",
    "            [2003.0, 24.0, 0.0],\n",
    "            [2004.0, 24.0, 0.0],\n",
    "            [2005.0, 24.0, 0.0],\n",
    "            [2006.0, 24.0, 0.0],\n",
    "            [2010.0, 25.0, 1.0],\n",
    "            [2011.0, 26.0, 1.0],\n",
    "            [2012.0, 26.0, 0.0],\n",
    "            [2013.0, 26.0, 0.0],\n",
    "            [2015.0, 30.0, 4.0],\n",
    "            [2016.0, 30.0, 0.0],\n",
    "            [2017.0, 29.0, -1.0]],\n",
    "            \"Q6\":[['Toyota', 133.0, 133.0, 133.0, 133.0, 158.0],\n",
    "            ['Ford', 112.0, 129.0, 129.0, 129.0, 129.0],\n",
    "            ['Volkswagen', 200.0, 200.0, 200.0, 200.0, 261.025641025641],\n",
    "            ['Nissan', 249.0, 254.0, 254.5, 254.5, 254.5],\n",
    "            ['Honda',\n",
    "            130.0,\n",
    "            167.67924528301887,\n",
    "            167.67924528301887,\n",
    "            167.67924528301887,\n",
    "            167.67924528301887]], \n",
    "            \"Q7\":[[(1984, 1988), 19.0], [(1989, 1993), 18.0], [(1994, 1998), 19.0], [(1999, 2003), 19.0], [(2004, 2008), 19.0], [(2009, 2013), 21.0], [(2014, 2018), 22.0]]\n",
    "}"
   ]
  },
  {
   "cell_type": "markdown",
   "metadata": {},
   "source": [
    "# Unit Testing"
   ]
  },
  {
   "cell_type": "code",
   "execution_count": 12,
   "metadata": {},
   "outputs": [
    {
     "name": "stderr",
     "output_type": "stream",
     "text": [
      "test_Q1 (__main__.TestAnswers) ... ok\n",
      "test_Q2_dim (__main__.TestAnswers) ... ok\n",
      "test_Q2_types (__main__.TestAnswers) ... ok\n",
      "test_Q3_types (__main__.TestAnswers) ... ok\n",
      "test_Q4_dim (__main__.TestAnswers) ... ok\n",
      "test_Q4_types (__main__.TestAnswers) ... ok\n",
      "test_Q5_dim (__main__.TestAnswers) ... ok\n",
      "test_Q5_first_zero (__main__.TestAnswers) ... ok\n",
      "test_Q5_types (__main__.TestAnswers) ... ok\n",
      "test_Q6_check_first_and_last_brand (__main__.TestAnswers) ... ok\n",
      "test_Q6_dim (__main__.TestAnswers) ... ok\n",
      "test_Q7_dim (__main__.TestAnswers) ... ok\n",
      "test_Q7_types (__main__.TestAnswers) ... ok\n",
      "test_answers_types (__main__.TestAnswers) ... ok\n",
      "test_if_dict (__main__.TestAnswers) ... ok\n",
      "test_keys (__main__.TestAnswers) ... ok\n",
      "\n",
      "----------------------------------------------------------------------\n",
      "Ran 16 tests in 0.092s\n",
      "\n",
      "OK\n"
     ]
    },
    {
     "data": {
      "text/plain": [
       "<unittest.main.TestProgram at 0x1c3ef49e730>"
      ]
     },
     "execution_count": 12,
     "metadata": {},
     "output_type": "execute_result"
    }
   ],
   "source": [
    "import unittest\n",
    "\n",
    "class TestAnswers(unittest.TestCase):\n",
    "    def test_if_dict(self):\n",
    "        self.assertIsInstance(answer_dict, dict)\n",
    "\n",
    "    def test_keys(self):\n",
    "        self.assertEqual(list(answer_dict.keys()), ['Q1', 'Q2', 'Q3', 'Q4', 'Q5', 'Q6', 'Q7'])\n",
    "\n",
    "    def test_answers_types(self):\n",
    "        types_values = [type(k) for k in answer_dict.values()]\n",
    "        answer_types = [float, list, list, list, list, list, list]\n",
    "        self.assertEqual(types_values, answer_types)\n",
    "\n",
    "    def test_Q1(self):\n",
    "        self.assertEqual(type(answer_dict['Q1']), float)\n",
    "\n",
    "    def test_Q2_dim(self):\n",
    "        self.assertEqual(np.array(answer_dict['Q2']).shape, (5,2))\n",
    "\n",
    "    def test_Q2_types(self):\n",
    "        dtype1 = type(answer_dict['Q2'][0][0])\n",
    "        dtype2 = type(answer_dict['Q2'][0][1])\n",
    "        self.assertEqual([dtype1, dtype2], [str, int])\n",
    "\n",
    "    def test_Q3_types(self):\n",
    "        q3_types = set([type(item) for item in answer_dict['Q3']])\n",
    "        self.assertEqual(q3_types, {str})\n",
    "\n",
    "    def test_Q4_dim(self):\n",
    "        self.assertEqual(np.array(answer_dict['Q4']).shape, (9,3))\n",
    "\n",
    "    def test_Q4_types(self):\n",
    "        dtype1 = type(answer_dict['Q4'][0][0])\n",
    "        dtype2 = type(answer_dict['Q4'][0][1])\n",
    "        dtype3 = type(answer_dict['Q4'][0][2])\n",
    "        self.assertEqual([dtype1, dtype2, dtype3], [str, int, float])\n",
    "\n",
    "    def test_Q5_dim(self):\n",
    "        self.assertEqual(np.array(answer_dict['Q5']).shape, (19,3))\n",
    "\n",
    "    def test_Q5_types(self):\n",
    "        dtype1 = type(answer_dict['Q5'][0][0])\n",
    "        dtype2 = type(answer_dict['Q5'][0][1])\n",
    "        dtype3 = type(answer_dict['Q5'][0][2])\n",
    "        self.assertEqual([dtype1, dtype2, dtype3], [int, int, float])\n",
    "\n",
    "    def test_Q5_first_zero(self):\n",
    "        self.assertEqual(answer_dict['Q5'][0][2], 0)\n",
    "\n",
    "\n",
    "    def test_Q6_dim(self):\n",
    "        self.assertEqual(np.array(answer_dict['Q6']).shape, (5,6))\n",
    "\n",
    "    def test_Q5_types(self):\n",
    "        dtype1 = type(answer_dict['Q6'][0][0])\n",
    "        dtype2 = type(answer_dict['Q6'][0][1])\n",
    "        dtype3 = type(answer_dict['Q6'][0][2])\n",
    "        dtype4 = type(answer_dict['Q6'][0][3])\n",
    "        dtype5 = type(answer_dict['Q6'][0][4])\n",
    "        dtype6 = type(answer_dict['Q6'][0][5])\n",
    "        self.assertEqual([dtype1, dtype2, dtype3, dtype4, dtype5, dtype6], [str, float, float, float, float, float])\n",
    "\n",
    "    def test_Q6_check_first_and_last_brand(self):\n",
    "        first_brand = answer_dict['Q6'][0][0]\n",
    "        last_brand = answer_dict['Q6'][4][0]\n",
    "\n",
    "        self.assertEqual([first_brand, last_brand], [\"Toyota\", \"Honda\"])\n",
    "\n",
    "    def test_Q7_dim(self):\n",
    "        self.assertEqual(np.array(answer_dict['Q7'], dtype=object).shape, (7,2))\n",
    "\n",
    "    def test_Q7_types(self):\n",
    "        dtype1 = type(answer_dict['Q7'][0][0])\n",
    "        dtype2 = type(answer_dict['Q7'][0][1])\n",
    "        self.assertEqual([dtype1, dtype2], [tuple, float])\n",
    "\n",
    "unittest.main(argv=[''], verbosity=2, exit=False)"
   ]
  },
  {
   "cell_type": "markdown",
   "metadata": {},
   "source": [
    "# Save as a .pkl file"
   ]
  },
  {
   "cell_type": "code",
   "execution_count": 13,
   "metadata": {},
   "outputs": [],
   "source": [
    "import pickle\n",
    "\n",
    "file_name = \"CHARITY_NGARI_answers.pkl\"\n",
    "path = \"\"\n",
    "\n",
    "with open(path+file_name, 'wb') as f:\n",
    "    pickle.dump(answer_dict, f, protocol=pickle.HIGHEST_PROTOCOL)"
   ]
  }
 ],
 "metadata": {
  "kernelspec": {
   "display_name": "Python 3",
   "language": "python",
   "name": "python3"
  },
  "language_info": {
   "codemirror_mode": {
    "name": "ipython",
    "version": 3
   },
   "file_extension": ".py",
   "mimetype": "text/x-python",
   "name": "python",
   "nbconvert_exporter": "python",
   "pygments_lexer": "ipython3",
   "version": "3.8.3"
  }
 },
 "nbformat": 4,
 "nbformat_minor": 4
}
